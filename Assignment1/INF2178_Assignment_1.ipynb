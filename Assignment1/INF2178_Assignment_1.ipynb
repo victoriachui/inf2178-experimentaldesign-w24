{
  "nbformat": 4,
  "nbformat_minor": 0,
  "metadata": {
    "colab": {
      "provenance": [],
      "collapsed_sections": [
        "eUGaFVMPMEDc",
        "jodBQzYhiAFm",
        "fNud7-F7JNGH"
      ]
    },
    "kernelspec": {
      "name": "python3",
      "display_name": "Python 3"
    },
    "language_info": {
      "name": "python"
    }
  },
  "cells": [
    {
      "cell_type": "code",
      "execution_count": 1,
      "metadata": {
        "id": "jduiWRGfatbC"
      },
      "outputs": [],
      "source": [
        "import pandas as pd\n",
        "import numpy as np\n",
        "import matplotlib.pyplot as plt\n",
        "import seaborn as sns\n",
        "from scipy import stats"
      ]
    },
    {
      "cell_type": "markdown",
      "source": [
        "### Reviewing Data and Data Cleaning"
      ],
      "metadata": {
        "id": "eUGaFVMPMEDc"
      }
    },
    {
      "cell_type": "code",
      "source": [
        "df = pd.read_csv(\"https://raw.githubusercontent.com/KeviiinCLH/INF2178/main/INF2178_A1_data.csv\")"
      ],
      "metadata": {
        "id": "V8AcdXMUXPRz"
      },
      "execution_count": 2,
      "outputs": []
    },
    {
      "cell_type": "code",
      "source": [
        "# Finding the number of rows and colums of the dataframe\n",
        "df.shape"
      ],
      "metadata": {
        "id": "Q2B72alkYyCI",
        "colab": {
          "base_uri": "https://localhost:8080/"
        },
        "outputId": "1cf2b741-4408-4ceb-c97f-b8f44c1fc18e"
      },
      "execution_count": 3,
      "outputs": [
        {
          "output_type": "execute_result",
          "data": {
            "text/plain": [
              "(50944, 14)"
            ]
          },
          "metadata": {},
          "execution_count": 3
        }
      ]
    },
    {
      "cell_type": "code",
      "source": [
        "# Quick view of dataframe content\n",
        "df.head()"
      ],
      "metadata": {
        "colab": {
          "base_uri": "https://localhost:8080/",
          "height": 469
        },
        "id": "MfqzMXiAX08v",
        "outputId": "ba1bc7e7-355f-45da-8e07-f2c36c825aeb"
      },
      "execution_count": 4,
      "outputs": [
        {
          "output_type": "execute_result",
          "data": {
            "text/plain": [
              "  OCCUPANCY_DATE         ORGANIZATION_NAME  PROGRAM_ID  \\\n",
              "0     2021-01-01  COSTI Immigrant Services       15371   \n",
              "1     2021-01-01  COSTI Immigrant Services       16211   \n",
              "2     2021-01-01  COSTI Immigrant Services       16192   \n",
              "3     2021-01-01  COSTI Immigrant Services       16191   \n",
              "4     2021-01-01  COSTI Immigrant Services       16193   \n",
              "\n",
              "                                        PROGRAM_NAME       SECTOR  \\\n",
              "0       COSTI North York West Hotel - Family Program     Families   \n",
              "1      COSTI North York West Hotel - Seniors Program  Mixed Adult   \n",
              "2          COSTI North York West Hotel Program - Men          Men   \n",
              "3  COSTI North York West Hotel Program - Mixed Adult  Mixed Adult   \n",
              "4        COSTI North York West Hotel Program - Women        Women   \n",
              "\n",
              "  PROGRAM_MODEL OVERNIGHT_SERVICE_TYPE       PROGRAM_AREA  SERVICE_USER_COUNT  \\\n",
              "0     Emergency    Motel/Hotel Shelter  COVID-19 Response                  74   \n",
              "1     Emergency    Motel/Hotel Shelter  COVID-19 Response                   3   \n",
              "2     Emergency    Motel/Hotel Shelter  COVID-19 Response                  24   \n",
              "3     Emergency    Motel/Hotel Shelter  COVID-19 Response                  25   \n",
              "4     Emergency    Motel/Hotel Shelter  COVID-19 Response                  13   \n",
              "\n",
              "         CAPACITY_TYPE  CAPACITY_ACTUAL_BED  OCCUPIED_BEDS  \\\n",
              "0  Room Based Capacity                  NaN            NaN   \n",
              "1  Room Based Capacity                  NaN            NaN   \n",
              "2  Room Based Capacity                  NaN            NaN   \n",
              "3  Room Based Capacity                  NaN            NaN   \n",
              "4  Room Based Capacity                  NaN            NaN   \n",
              "\n",
              "   CAPACITY_ACTUAL_ROOM  OCCUPIED_ROOMS  \n",
              "0                  29.0            26.0  \n",
              "1                   3.0             3.0  \n",
              "2                  28.0            23.0  \n",
              "3                  17.0            17.0  \n",
              "4                  14.0            13.0  "
            ],
            "text/html": [
              "\n",
              "  <div id=\"df-38e0bd2a-b61b-4325-958e-6c3f312577f1\" class=\"colab-df-container\">\n",
              "    <div>\n",
              "<style scoped>\n",
              "    .dataframe tbody tr th:only-of-type {\n",
              "        vertical-align: middle;\n",
              "    }\n",
              "\n",
              "    .dataframe tbody tr th {\n",
              "        vertical-align: top;\n",
              "    }\n",
              "\n",
              "    .dataframe thead th {\n",
              "        text-align: right;\n",
              "    }\n",
              "</style>\n",
              "<table border=\"1\" class=\"dataframe\">\n",
              "  <thead>\n",
              "    <tr style=\"text-align: right;\">\n",
              "      <th></th>\n",
              "      <th>OCCUPANCY_DATE</th>\n",
              "      <th>ORGANIZATION_NAME</th>\n",
              "      <th>PROGRAM_ID</th>\n",
              "      <th>PROGRAM_NAME</th>\n",
              "      <th>SECTOR</th>\n",
              "      <th>PROGRAM_MODEL</th>\n",
              "      <th>OVERNIGHT_SERVICE_TYPE</th>\n",
              "      <th>PROGRAM_AREA</th>\n",
              "      <th>SERVICE_USER_COUNT</th>\n",
              "      <th>CAPACITY_TYPE</th>\n",
              "      <th>CAPACITY_ACTUAL_BED</th>\n",
              "      <th>OCCUPIED_BEDS</th>\n",
              "      <th>CAPACITY_ACTUAL_ROOM</th>\n",
              "      <th>OCCUPIED_ROOMS</th>\n",
              "    </tr>\n",
              "  </thead>\n",
              "  <tbody>\n",
              "    <tr>\n",
              "      <th>0</th>\n",
              "      <td>2021-01-01</td>\n",
              "      <td>COSTI Immigrant Services</td>\n",
              "      <td>15371</td>\n",
              "      <td>COSTI North York West Hotel - Family Program</td>\n",
              "      <td>Families</td>\n",
              "      <td>Emergency</td>\n",
              "      <td>Motel/Hotel Shelter</td>\n",
              "      <td>COVID-19 Response</td>\n",
              "      <td>74</td>\n",
              "      <td>Room Based Capacity</td>\n",
              "      <td>NaN</td>\n",
              "      <td>NaN</td>\n",
              "      <td>29.0</td>\n",
              "      <td>26.0</td>\n",
              "    </tr>\n",
              "    <tr>\n",
              "      <th>1</th>\n",
              "      <td>2021-01-01</td>\n",
              "      <td>COSTI Immigrant Services</td>\n",
              "      <td>16211</td>\n",
              "      <td>COSTI North York West Hotel - Seniors Program</td>\n",
              "      <td>Mixed Adult</td>\n",
              "      <td>Emergency</td>\n",
              "      <td>Motel/Hotel Shelter</td>\n",
              "      <td>COVID-19 Response</td>\n",
              "      <td>3</td>\n",
              "      <td>Room Based Capacity</td>\n",
              "      <td>NaN</td>\n",
              "      <td>NaN</td>\n",
              "      <td>3.0</td>\n",
              "      <td>3.0</td>\n",
              "    </tr>\n",
              "    <tr>\n",
              "      <th>2</th>\n",
              "      <td>2021-01-01</td>\n",
              "      <td>COSTI Immigrant Services</td>\n",
              "      <td>16192</td>\n",
              "      <td>COSTI North York West Hotel Program - Men</td>\n",
              "      <td>Men</td>\n",
              "      <td>Emergency</td>\n",
              "      <td>Motel/Hotel Shelter</td>\n",
              "      <td>COVID-19 Response</td>\n",
              "      <td>24</td>\n",
              "      <td>Room Based Capacity</td>\n",
              "      <td>NaN</td>\n",
              "      <td>NaN</td>\n",
              "      <td>28.0</td>\n",
              "      <td>23.0</td>\n",
              "    </tr>\n",
              "    <tr>\n",
              "      <th>3</th>\n",
              "      <td>2021-01-01</td>\n",
              "      <td>COSTI Immigrant Services</td>\n",
              "      <td>16191</td>\n",
              "      <td>COSTI North York West Hotel Program - Mixed Adult</td>\n",
              "      <td>Mixed Adult</td>\n",
              "      <td>Emergency</td>\n",
              "      <td>Motel/Hotel Shelter</td>\n",
              "      <td>COVID-19 Response</td>\n",
              "      <td>25</td>\n",
              "      <td>Room Based Capacity</td>\n",
              "      <td>NaN</td>\n",
              "      <td>NaN</td>\n",
              "      <td>17.0</td>\n",
              "      <td>17.0</td>\n",
              "    </tr>\n",
              "    <tr>\n",
              "      <th>4</th>\n",
              "      <td>2021-01-01</td>\n",
              "      <td>COSTI Immigrant Services</td>\n",
              "      <td>16193</td>\n",
              "      <td>COSTI North York West Hotel Program - Women</td>\n",
              "      <td>Women</td>\n",
              "      <td>Emergency</td>\n",
              "      <td>Motel/Hotel Shelter</td>\n",
              "      <td>COVID-19 Response</td>\n",
              "      <td>13</td>\n",
              "      <td>Room Based Capacity</td>\n",
              "      <td>NaN</td>\n",
              "      <td>NaN</td>\n",
              "      <td>14.0</td>\n",
              "      <td>13.0</td>\n",
              "    </tr>\n",
              "  </tbody>\n",
              "</table>\n",
              "</div>\n",
              "    <div class=\"colab-df-buttons\">\n",
              "\n",
              "  <div class=\"colab-df-container\">\n",
              "    <button class=\"colab-df-convert\" onclick=\"convertToInteractive('df-38e0bd2a-b61b-4325-958e-6c3f312577f1')\"\n",
              "            title=\"Convert this dataframe to an interactive table.\"\n",
              "            style=\"display:none;\">\n",
              "\n",
              "  <svg xmlns=\"http://www.w3.org/2000/svg\" height=\"24px\" viewBox=\"0 -960 960 960\">\n",
              "    <path d=\"M120-120v-720h720v720H120Zm60-500h600v-160H180v160Zm220 220h160v-160H400v160Zm0 220h160v-160H400v160ZM180-400h160v-160H180v160Zm440 0h160v-160H620v160ZM180-180h160v-160H180v160Zm440 0h160v-160H620v160Z\"/>\n",
              "  </svg>\n",
              "    </button>\n",
              "\n",
              "  <style>\n",
              "    .colab-df-container {\n",
              "      display:flex;\n",
              "      gap: 12px;\n",
              "    }\n",
              "\n",
              "    .colab-df-convert {\n",
              "      background-color: #E8F0FE;\n",
              "      border: none;\n",
              "      border-radius: 50%;\n",
              "      cursor: pointer;\n",
              "      display: none;\n",
              "      fill: #1967D2;\n",
              "      height: 32px;\n",
              "      padding: 0 0 0 0;\n",
              "      width: 32px;\n",
              "    }\n",
              "\n",
              "    .colab-df-convert:hover {\n",
              "      background-color: #E2EBFA;\n",
              "      box-shadow: 0px 1px 2px rgba(60, 64, 67, 0.3), 0px 1px 3px 1px rgba(60, 64, 67, 0.15);\n",
              "      fill: #174EA6;\n",
              "    }\n",
              "\n",
              "    .colab-df-buttons div {\n",
              "      margin-bottom: 4px;\n",
              "    }\n",
              "\n",
              "    [theme=dark] .colab-df-convert {\n",
              "      background-color: #3B4455;\n",
              "      fill: #D2E3FC;\n",
              "    }\n",
              "\n",
              "    [theme=dark] .colab-df-convert:hover {\n",
              "      background-color: #434B5C;\n",
              "      box-shadow: 0px 1px 3px 1px rgba(0, 0, 0, 0.15);\n",
              "      filter: drop-shadow(0px 1px 2px rgba(0, 0, 0, 0.3));\n",
              "      fill: #FFFFFF;\n",
              "    }\n",
              "  </style>\n",
              "\n",
              "    <script>\n",
              "      const buttonEl =\n",
              "        document.querySelector('#df-38e0bd2a-b61b-4325-958e-6c3f312577f1 button.colab-df-convert');\n",
              "      buttonEl.style.display =\n",
              "        google.colab.kernel.accessAllowed ? 'block' : 'none';\n",
              "\n",
              "      async function convertToInteractive(key) {\n",
              "        const element = document.querySelector('#df-38e0bd2a-b61b-4325-958e-6c3f312577f1');\n",
              "        const dataTable =\n",
              "          await google.colab.kernel.invokeFunction('convertToInteractive',\n",
              "                                                    [key], {});\n",
              "        if (!dataTable) return;\n",
              "\n",
              "        const docLinkHtml = 'Like what you see? Visit the ' +\n",
              "          '<a target=\"_blank\" href=https://colab.research.google.com/notebooks/data_table.ipynb>data table notebook</a>'\n",
              "          + ' to learn more about interactive tables.';\n",
              "        element.innerHTML = '';\n",
              "        dataTable['output_type'] = 'display_data';\n",
              "        await google.colab.output.renderOutput(dataTable, element);\n",
              "        const docLink = document.createElement('div');\n",
              "        docLink.innerHTML = docLinkHtml;\n",
              "        element.appendChild(docLink);\n",
              "      }\n",
              "    </script>\n",
              "  </div>\n",
              "\n",
              "\n",
              "<div id=\"df-4f6e3979-c232-4258-9c60-6178d8599df3\">\n",
              "  <button class=\"colab-df-quickchart\" onclick=\"quickchart('df-4f6e3979-c232-4258-9c60-6178d8599df3')\"\n",
              "            title=\"Suggest charts\"\n",
              "            style=\"display:none;\">\n",
              "\n",
              "<svg xmlns=\"http://www.w3.org/2000/svg\" height=\"24px\"viewBox=\"0 0 24 24\"\n",
              "     width=\"24px\">\n",
              "    <g>\n",
              "        <path d=\"M19 3H5c-1.1 0-2 .9-2 2v14c0 1.1.9 2 2 2h14c1.1 0 2-.9 2-2V5c0-1.1-.9-2-2-2zM9 17H7v-7h2v7zm4 0h-2V7h2v10zm4 0h-2v-4h2v4z\"/>\n",
              "    </g>\n",
              "</svg>\n",
              "  </button>\n",
              "\n",
              "<style>\n",
              "  .colab-df-quickchart {\n",
              "      --bg-color: #E8F0FE;\n",
              "      --fill-color: #1967D2;\n",
              "      --hover-bg-color: #E2EBFA;\n",
              "      --hover-fill-color: #174EA6;\n",
              "      --disabled-fill-color: #AAA;\n",
              "      --disabled-bg-color: #DDD;\n",
              "  }\n",
              "\n",
              "  [theme=dark] .colab-df-quickchart {\n",
              "      --bg-color: #3B4455;\n",
              "      --fill-color: #D2E3FC;\n",
              "      --hover-bg-color: #434B5C;\n",
              "      --hover-fill-color: #FFFFFF;\n",
              "      --disabled-bg-color: #3B4455;\n",
              "      --disabled-fill-color: #666;\n",
              "  }\n",
              "\n",
              "  .colab-df-quickchart {\n",
              "    background-color: var(--bg-color);\n",
              "    border: none;\n",
              "    border-radius: 50%;\n",
              "    cursor: pointer;\n",
              "    display: none;\n",
              "    fill: var(--fill-color);\n",
              "    height: 32px;\n",
              "    padding: 0;\n",
              "    width: 32px;\n",
              "  }\n",
              "\n",
              "  .colab-df-quickchart:hover {\n",
              "    background-color: var(--hover-bg-color);\n",
              "    box-shadow: 0 1px 2px rgba(60, 64, 67, 0.3), 0 1px 3px 1px rgba(60, 64, 67, 0.15);\n",
              "    fill: var(--button-hover-fill-color);\n",
              "  }\n",
              "\n",
              "  .colab-df-quickchart-complete:disabled,\n",
              "  .colab-df-quickchart-complete:disabled:hover {\n",
              "    background-color: var(--disabled-bg-color);\n",
              "    fill: var(--disabled-fill-color);\n",
              "    box-shadow: none;\n",
              "  }\n",
              "\n",
              "  .colab-df-spinner {\n",
              "    border: 2px solid var(--fill-color);\n",
              "    border-color: transparent;\n",
              "    border-bottom-color: var(--fill-color);\n",
              "    animation:\n",
              "      spin 1s steps(1) infinite;\n",
              "  }\n",
              "\n",
              "  @keyframes spin {\n",
              "    0% {\n",
              "      border-color: transparent;\n",
              "      border-bottom-color: var(--fill-color);\n",
              "      border-left-color: var(--fill-color);\n",
              "    }\n",
              "    20% {\n",
              "      border-color: transparent;\n",
              "      border-left-color: var(--fill-color);\n",
              "      border-top-color: var(--fill-color);\n",
              "    }\n",
              "    30% {\n",
              "      border-color: transparent;\n",
              "      border-left-color: var(--fill-color);\n",
              "      border-top-color: var(--fill-color);\n",
              "      border-right-color: var(--fill-color);\n",
              "    }\n",
              "    40% {\n",
              "      border-color: transparent;\n",
              "      border-right-color: var(--fill-color);\n",
              "      border-top-color: var(--fill-color);\n",
              "    }\n",
              "    60% {\n",
              "      border-color: transparent;\n",
              "      border-right-color: var(--fill-color);\n",
              "    }\n",
              "    80% {\n",
              "      border-color: transparent;\n",
              "      border-right-color: var(--fill-color);\n",
              "      border-bottom-color: var(--fill-color);\n",
              "    }\n",
              "    90% {\n",
              "      border-color: transparent;\n",
              "      border-bottom-color: var(--fill-color);\n",
              "    }\n",
              "  }\n",
              "</style>\n",
              "\n",
              "  <script>\n",
              "    async function quickchart(key) {\n",
              "      const quickchartButtonEl =\n",
              "        document.querySelector('#' + key + ' button');\n",
              "      quickchartButtonEl.disabled = true;  // To prevent multiple clicks.\n",
              "      quickchartButtonEl.classList.add('colab-df-spinner');\n",
              "      try {\n",
              "        const charts = await google.colab.kernel.invokeFunction(\n",
              "            'suggestCharts', [key], {});\n",
              "      } catch (error) {\n",
              "        console.error('Error during call to suggestCharts:', error);\n",
              "      }\n",
              "      quickchartButtonEl.classList.remove('colab-df-spinner');\n",
              "      quickchartButtonEl.classList.add('colab-df-quickchart-complete');\n",
              "    }\n",
              "    (() => {\n",
              "      let quickchartButtonEl =\n",
              "        document.querySelector('#df-4f6e3979-c232-4258-9c60-6178d8599df3 button');\n",
              "      quickchartButtonEl.style.display =\n",
              "        google.colab.kernel.accessAllowed ? 'block' : 'none';\n",
              "    })();\n",
              "  </script>\n",
              "</div>\n",
              "\n",
              "    </div>\n",
              "  </div>\n"
            ]
          },
          "metadata": {},
          "execution_count": 4
        }
      ]
    },
    {
      "cell_type": "code",
      "source": [
        "# Drop some columns like ORGANIZATION_NAME, PROGRAM_ID, etc., that are not helpful to the analysis\n",
        "df = df.drop(df.columns[1:4],axis =1)"
      ],
      "metadata": {
        "id": "HRfq9sH-ETTF"
      },
      "execution_count": 5,
      "outputs": []
    },
    {
      "cell_type": "code",
      "source": [
        "# Check for null value and data type\n",
        "df.info(), df.isnull().sum()"
      ],
      "metadata": {
        "colab": {
          "base_uri": "https://localhost:8080/"
        },
        "id": "iEyriItJi83G",
        "outputId": "209ade71-f3d6-443d-cee8-ab67a80a125a"
      },
      "execution_count": 6,
      "outputs": [
        {
          "output_type": "stream",
          "name": "stdout",
          "text": [
            "<class 'pandas.core.frame.DataFrame'>\n",
            "RangeIndex: 50944 entries, 0 to 50943\n",
            "Data columns (total 11 columns):\n",
            " #   Column                  Non-Null Count  Dtype  \n",
            "---  ------                  --------------  -----  \n",
            " 0   OCCUPANCY_DATE          50944 non-null  object \n",
            " 1   SECTOR                  50944 non-null  object \n",
            " 2   PROGRAM_MODEL           50942 non-null  object \n",
            " 3   OVERNIGHT_SERVICE_TYPE  50942 non-null  object \n",
            " 4   PROGRAM_AREA            50942 non-null  object \n",
            " 5   SERVICE_USER_COUNT      50944 non-null  int64  \n",
            " 6   CAPACITY_TYPE           50944 non-null  object \n",
            " 7   CAPACITY_ACTUAL_BED     32399 non-null  float64\n",
            " 8   OCCUPIED_BEDS           32399 non-null  float64\n",
            " 9   CAPACITY_ACTUAL_ROOM    18545 non-null  float64\n",
            " 10  OCCUPIED_ROOMS          18545 non-null  float64\n",
            "dtypes: float64(4), int64(1), object(6)\n",
            "memory usage: 4.3+ MB\n"
          ]
        },
        {
          "output_type": "execute_result",
          "data": {
            "text/plain": [
              "(None,\n",
              " OCCUPANCY_DATE                0\n",
              " SECTOR                        0\n",
              " PROGRAM_MODEL                 2\n",
              " OVERNIGHT_SERVICE_TYPE        2\n",
              " PROGRAM_AREA                  2\n",
              " SERVICE_USER_COUNT            0\n",
              " CAPACITY_TYPE                 0\n",
              " CAPACITY_ACTUAL_BED       18545\n",
              " OCCUPIED_BEDS             18545\n",
              " CAPACITY_ACTUAL_ROOM      32399\n",
              " OCCUPIED_ROOMS            32399\n",
              " dtype: int64)"
            ]
          },
          "metadata": {},
          "execution_count": 6
        }
      ]
    },
    {
      "cell_type": "code",
      "source": [
        "# Drop the rows contain null value in PROGRAM_MODEL, OVERNIGHT_SERVICE_TYPE, PROGRAM_AREA\n",
        "df = df.dropna(subset=['PROGRAM_MODEL','OVERNIGHT_SERVICE_TYPE','PROGRAM_AREA'])\n",
        "df.isnull().sum()"
      ],
      "metadata": {
        "colab": {
          "base_uri": "https://localhost:8080/"
        },
        "id": "WJHszr0kFC8U",
        "outputId": "b05ee620-6397-4bb3-8f2c-ced3ac3344c4"
      },
      "execution_count": 7,
      "outputs": [
        {
          "output_type": "execute_result",
          "data": {
            "text/plain": [
              "OCCUPANCY_DATE                0\n",
              "SECTOR                        0\n",
              "PROGRAM_MODEL                 0\n",
              "OVERNIGHT_SERVICE_TYPE        0\n",
              "PROGRAM_AREA                  0\n",
              "SERVICE_USER_COUNT            0\n",
              "CAPACITY_TYPE                 0\n",
              "CAPACITY_ACTUAL_BED       18545\n",
              "OCCUPIED_BEDS             18545\n",
              "CAPACITY_ACTUAL_ROOM      32397\n",
              "OCCUPIED_ROOMS            32397\n",
              "dtype: int64"
            ]
          },
          "metadata": {},
          "execution_count": 7
        }
      ]
    },
    {
      "cell_type": "code",
      "source": [
        "df"
      ],
      "metadata": {
        "colab": {
          "base_uri": "https://localhost:8080/",
          "height": 597
        },
        "id": "-rl4nGdawT-H",
        "outputId": "b4660901-59de-4135-f313-d695730fb383"
      },
      "execution_count": 8,
      "outputs": [
        {
          "output_type": "execute_result",
          "data": {
            "text/plain": [
              "      OCCUPANCY_DATE       SECTOR PROGRAM_MODEL OVERNIGHT_SERVICE_TYPE  \\\n",
              "0         2021-01-01     Families     Emergency    Motel/Hotel Shelter   \n",
              "1         2021-01-01  Mixed Adult     Emergency    Motel/Hotel Shelter   \n",
              "2         2021-01-01          Men     Emergency    Motel/Hotel Shelter   \n",
              "3         2021-01-01  Mixed Adult     Emergency    Motel/Hotel Shelter   \n",
              "4         2021-01-01        Women     Emergency    Motel/Hotel Shelter   \n",
              "...              ...          ...           ...                    ...   \n",
              "50939     2021-12-31        Youth     Emergency                Shelter   \n",
              "50940     2021-12-31        Youth     Emergency                Shelter   \n",
              "50941     2021-12-31        Youth  Transitional                Shelter   \n",
              "50942     2021-12-31  Mixed Adult     Emergency                Shelter   \n",
              "50943     2021-12-31  Mixed Adult  Transitional                Shelter   \n",
              "\n",
              "                                     PROGRAM_AREA  SERVICE_USER_COUNT  \\\n",
              "0                               COVID-19 Response                  74   \n",
              "1                               COVID-19 Response                   3   \n",
              "2                               COVID-19 Response                  24   \n",
              "3                               COVID-19 Response                  25   \n",
              "4                               COVID-19 Response                  13   \n",
              "...                                           ...                 ...   \n",
              "50939  Base Shelter and Overnight Services System                   6   \n",
              "50940  Base Shelter and Overnight Services System                  23   \n",
              "50941  Base Shelter and Overnight Services System                  13   \n",
              "50942  Base Shelter and Overnight Services System                  10   \n",
              "50943  Base Shelter and Overnight Services System                  29   \n",
              "\n",
              "             CAPACITY_TYPE  CAPACITY_ACTUAL_BED  OCCUPIED_BEDS  \\\n",
              "0      Room Based Capacity                  NaN            NaN   \n",
              "1      Room Based Capacity                  NaN            NaN   \n",
              "2      Room Based Capacity                  NaN            NaN   \n",
              "3      Room Based Capacity                  NaN            NaN   \n",
              "4      Room Based Capacity                  NaN            NaN   \n",
              "...                    ...                  ...            ...   \n",
              "50939   Bed Based Capacity                 20.0            6.0   \n",
              "50940   Bed Based Capacity                 23.0           23.0   \n",
              "50941   Bed Based Capacity                 14.0           13.0   \n",
              "50942   Bed Based Capacity                 10.0           10.0   \n",
              "50943   Bed Based Capacity                 29.0           29.0   \n",
              "\n",
              "       CAPACITY_ACTUAL_ROOM  OCCUPIED_ROOMS  \n",
              "0                      29.0            26.0  \n",
              "1                       3.0             3.0  \n",
              "2                      28.0            23.0  \n",
              "3                      17.0            17.0  \n",
              "4                      14.0            13.0  \n",
              "...                     ...             ...  \n",
              "50939                   NaN             NaN  \n",
              "50940                   NaN             NaN  \n",
              "50941                   NaN             NaN  \n",
              "50942                   NaN             NaN  \n",
              "50943                   NaN             NaN  \n",
              "\n",
              "[50942 rows x 11 columns]"
            ],
            "text/html": [
              "\n",
              "  <div id=\"df-38d20c3c-7f38-458d-b13c-d8c7196d4ccd\" class=\"colab-df-container\">\n",
              "    <div>\n",
              "<style scoped>\n",
              "    .dataframe tbody tr th:only-of-type {\n",
              "        vertical-align: middle;\n",
              "    }\n",
              "\n",
              "    .dataframe tbody tr th {\n",
              "        vertical-align: top;\n",
              "    }\n",
              "\n",
              "    .dataframe thead th {\n",
              "        text-align: right;\n",
              "    }\n",
              "</style>\n",
              "<table border=\"1\" class=\"dataframe\">\n",
              "  <thead>\n",
              "    <tr style=\"text-align: right;\">\n",
              "      <th></th>\n",
              "      <th>OCCUPANCY_DATE</th>\n",
              "      <th>SECTOR</th>\n",
              "      <th>PROGRAM_MODEL</th>\n",
              "      <th>OVERNIGHT_SERVICE_TYPE</th>\n",
              "      <th>PROGRAM_AREA</th>\n",
              "      <th>SERVICE_USER_COUNT</th>\n",
              "      <th>CAPACITY_TYPE</th>\n",
              "      <th>CAPACITY_ACTUAL_BED</th>\n",
              "      <th>OCCUPIED_BEDS</th>\n",
              "      <th>CAPACITY_ACTUAL_ROOM</th>\n",
              "      <th>OCCUPIED_ROOMS</th>\n",
              "    </tr>\n",
              "  </thead>\n",
              "  <tbody>\n",
              "    <tr>\n",
              "      <th>0</th>\n",
              "      <td>2021-01-01</td>\n",
              "      <td>Families</td>\n",
              "      <td>Emergency</td>\n",
              "      <td>Motel/Hotel Shelter</td>\n",
              "      <td>COVID-19 Response</td>\n",
              "      <td>74</td>\n",
              "      <td>Room Based Capacity</td>\n",
              "      <td>NaN</td>\n",
              "      <td>NaN</td>\n",
              "      <td>29.0</td>\n",
              "      <td>26.0</td>\n",
              "    </tr>\n",
              "    <tr>\n",
              "      <th>1</th>\n",
              "      <td>2021-01-01</td>\n",
              "      <td>Mixed Adult</td>\n",
              "      <td>Emergency</td>\n",
              "      <td>Motel/Hotel Shelter</td>\n",
              "      <td>COVID-19 Response</td>\n",
              "      <td>3</td>\n",
              "      <td>Room Based Capacity</td>\n",
              "      <td>NaN</td>\n",
              "      <td>NaN</td>\n",
              "      <td>3.0</td>\n",
              "      <td>3.0</td>\n",
              "    </tr>\n",
              "    <tr>\n",
              "      <th>2</th>\n",
              "      <td>2021-01-01</td>\n",
              "      <td>Men</td>\n",
              "      <td>Emergency</td>\n",
              "      <td>Motel/Hotel Shelter</td>\n",
              "      <td>COVID-19 Response</td>\n",
              "      <td>24</td>\n",
              "      <td>Room Based Capacity</td>\n",
              "      <td>NaN</td>\n",
              "      <td>NaN</td>\n",
              "      <td>28.0</td>\n",
              "      <td>23.0</td>\n",
              "    </tr>\n",
              "    <tr>\n",
              "      <th>3</th>\n",
              "      <td>2021-01-01</td>\n",
              "      <td>Mixed Adult</td>\n",
              "      <td>Emergency</td>\n",
              "      <td>Motel/Hotel Shelter</td>\n",
              "      <td>COVID-19 Response</td>\n",
              "      <td>25</td>\n",
              "      <td>Room Based Capacity</td>\n",
              "      <td>NaN</td>\n",
              "      <td>NaN</td>\n",
              "      <td>17.0</td>\n",
              "      <td>17.0</td>\n",
              "    </tr>\n",
              "    <tr>\n",
              "      <th>4</th>\n",
              "      <td>2021-01-01</td>\n",
              "      <td>Women</td>\n",
              "      <td>Emergency</td>\n",
              "      <td>Motel/Hotel Shelter</td>\n",
              "      <td>COVID-19 Response</td>\n",
              "      <td>13</td>\n",
              "      <td>Room Based Capacity</td>\n",
              "      <td>NaN</td>\n",
              "      <td>NaN</td>\n",
              "      <td>14.0</td>\n",
              "      <td>13.0</td>\n",
              "    </tr>\n",
              "    <tr>\n",
              "      <th>...</th>\n",
              "      <td>...</td>\n",
              "      <td>...</td>\n",
              "      <td>...</td>\n",
              "      <td>...</td>\n",
              "      <td>...</td>\n",
              "      <td>...</td>\n",
              "      <td>...</td>\n",
              "      <td>...</td>\n",
              "      <td>...</td>\n",
              "      <td>...</td>\n",
              "      <td>...</td>\n",
              "    </tr>\n",
              "    <tr>\n",
              "      <th>50939</th>\n",
              "      <td>2021-12-31</td>\n",
              "      <td>Youth</td>\n",
              "      <td>Emergency</td>\n",
              "      <td>Shelter</td>\n",
              "      <td>Base Shelter and Overnight Services System</td>\n",
              "      <td>6</td>\n",
              "      <td>Bed Based Capacity</td>\n",
              "      <td>20.0</td>\n",
              "      <td>6.0</td>\n",
              "      <td>NaN</td>\n",
              "      <td>NaN</td>\n",
              "    </tr>\n",
              "    <tr>\n",
              "      <th>50940</th>\n",
              "      <td>2021-12-31</td>\n",
              "      <td>Youth</td>\n",
              "      <td>Emergency</td>\n",
              "      <td>Shelter</td>\n",
              "      <td>Base Shelter and Overnight Services System</td>\n",
              "      <td>23</td>\n",
              "      <td>Bed Based Capacity</td>\n",
              "      <td>23.0</td>\n",
              "      <td>23.0</td>\n",
              "      <td>NaN</td>\n",
              "      <td>NaN</td>\n",
              "    </tr>\n",
              "    <tr>\n",
              "      <th>50941</th>\n",
              "      <td>2021-12-31</td>\n",
              "      <td>Youth</td>\n",
              "      <td>Transitional</td>\n",
              "      <td>Shelter</td>\n",
              "      <td>Base Shelter and Overnight Services System</td>\n",
              "      <td>13</td>\n",
              "      <td>Bed Based Capacity</td>\n",
              "      <td>14.0</td>\n",
              "      <td>13.0</td>\n",
              "      <td>NaN</td>\n",
              "      <td>NaN</td>\n",
              "    </tr>\n",
              "    <tr>\n",
              "      <th>50942</th>\n",
              "      <td>2021-12-31</td>\n",
              "      <td>Mixed Adult</td>\n",
              "      <td>Emergency</td>\n",
              "      <td>Shelter</td>\n",
              "      <td>Base Shelter and Overnight Services System</td>\n",
              "      <td>10</td>\n",
              "      <td>Bed Based Capacity</td>\n",
              "      <td>10.0</td>\n",
              "      <td>10.0</td>\n",
              "      <td>NaN</td>\n",
              "      <td>NaN</td>\n",
              "    </tr>\n",
              "    <tr>\n",
              "      <th>50943</th>\n",
              "      <td>2021-12-31</td>\n",
              "      <td>Mixed Adult</td>\n",
              "      <td>Transitional</td>\n",
              "      <td>Shelter</td>\n",
              "      <td>Base Shelter and Overnight Services System</td>\n",
              "      <td>29</td>\n",
              "      <td>Bed Based Capacity</td>\n",
              "      <td>29.0</td>\n",
              "      <td>29.0</td>\n",
              "      <td>NaN</td>\n",
              "      <td>NaN</td>\n",
              "    </tr>\n",
              "  </tbody>\n",
              "</table>\n",
              "<p>50942 rows × 11 columns</p>\n",
              "</div>\n",
              "    <div class=\"colab-df-buttons\">\n",
              "\n",
              "  <div class=\"colab-df-container\">\n",
              "    <button class=\"colab-df-convert\" onclick=\"convertToInteractive('df-38d20c3c-7f38-458d-b13c-d8c7196d4ccd')\"\n",
              "            title=\"Convert this dataframe to an interactive table.\"\n",
              "            style=\"display:none;\">\n",
              "\n",
              "  <svg xmlns=\"http://www.w3.org/2000/svg\" height=\"24px\" viewBox=\"0 -960 960 960\">\n",
              "    <path d=\"M120-120v-720h720v720H120Zm60-500h600v-160H180v160Zm220 220h160v-160H400v160Zm0 220h160v-160H400v160ZM180-400h160v-160H180v160Zm440 0h160v-160H620v160ZM180-180h160v-160H180v160Zm440 0h160v-160H620v160Z\"/>\n",
              "  </svg>\n",
              "    </button>\n",
              "\n",
              "  <style>\n",
              "    .colab-df-container {\n",
              "      display:flex;\n",
              "      gap: 12px;\n",
              "    }\n",
              "\n",
              "    .colab-df-convert {\n",
              "      background-color: #E8F0FE;\n",
              "      border: none;\n",
              "      border-radius: 50%;\n",
              "      cursor: pointer;\n",
              "      display: none;\n",
              "      fill: #1967D2;\n",
              "      height: 32px;\n",
              "      padding: 0 0 0 0;\n",
              "      width: 32px;\n",
              "    }\n",
              "\n",
              "    .colab-df-convert:hover {\n",
              "      background-color: #E2EBFA;\n",
              "      box-shadow: 0px 1px 2px rgba(60, 64, 67, 0.3), 0px 1px 3px 1px rgba(60, 64, 67, 0.15);\n",
              "      fill: #174EA6;\n",
              "    }\n",
              "\n",
              "    .colab-df-buttons div {\n",
              "      margin-bottom: 4px;\n",
              "    }\n",
              "\n",
              "    [theme=dark] .colab-df-convert {\n",
              "      background-color: #3B4455;\n",
              "      fill: #D2E3FC;\n",
              "    }\n",
              "\n",
              "    [theme=dark] .colab-df-convert:hover {\n",
              "      background-color: #434B5C;\n",
              "      box-shadow: 0px 1px 3px 1px rgba(0, 0, 0, 0.15);\n",
              "      filter: drop-shadow(0px 1px 2px rgba(0, 0, 0, 0.3));\n",
              "      fill: #FFFFFF;\n",
              "    }\n",
              "  </style>\n",
              "\n",
              "    <script>\n",
              "      const buttonEl =\n",
              "        document.querySelector('#df-38d20c3c-7f38-458d-b13c-d8c7196d4ccd button.colab-df-convert');\n",
              "      buttonEl.style.display =\n",
              "        google.colab.kernel.accessAllowed ? 'block' : 'none';\n",
              "\n",
              "      async function convertToInteractive(key) {\n",
              "        const element = document.querySelector('#df-38d20c3c-7f38-458d-b13c-d8c7196d4ccd');\n",
              "        const dataTable =\n",
              "          await google.colab.kernel.invokeFunction('convertToInteractive',\n",
              "                                                    [key], {});\n",
              "        if (!dataTable) return;\n",
              "\n",
              "        const docLinkHtml = 'Like what you see? Visit the ' +\n",
              "          '<a target=\"_blank\" href=https://colab.research.google.com/notebooks/data_table.ipynb>data table notebook</a>'\n",
              "          + ' to learn more about interactive tables.';\n",
              "        element.innerHTML = '';\n",
              "        dataTable['output_type'] = 'display_data';\n",
              "        await google.colab.output.renderOutput(dataTable, element);\n",
              "        const docLink = document.createElement('div');\n",
              "        docLink.innerHTML = docLinkHtml;\n",
              "        element.appendChild(docLink);\n",
              "      }\n",
              "    </script>\n",
              "  </div>\n",
              "\n",
              "\n",
              "<div id=\"df-062528c9-0792-4a3b-96c5-5e6e5c624db9\">\n",
              "  <button class=\"colab-df-quickchart\" onclick=\"quickchart('df-062528c9-0792-4a3b-96c5-5e6e5c624db9')\"\n",
              "            title=\"Suggest charts\"\n",
              "            style=\"display:none;\">\n",
              "\n",
              "<svg xmlns=\"http://www.w3.org/2000/svg\" height=\"24px\"viewBox=\"0 0 24 24\"\n",
              "     width=\"24px\">\n",
              "    <g>\n",
              "        <path d=\"M19 3H5c-1.1 0-2 .9-2 2v14c0 1.1.9 2 2 2h14c1.1 0 2-.9 2-2V5c0-1.1-.9-2-2-2zM9 17H7v-7h2v7zm4 0h-2V7h2v10zm4 0h-2v-4h2v4z\"/>\n",
              "    </g>\n",
              "</svg>\n",
              "  </button>\n",
              "\n",
              "<style>\n",
              "  .colab-df-quickchart {\n",
              "      --bg-color: #E8F0FE;\n",
              "      --fill-color: #1967D2;\n",
              "      --hover-bg-color: #E2EBFA;\n",
              "      --hover-fill-color: #174EA6;\n",
              "      --disabled-fill-color: #AAA;\n",
              "      --disabled-bg-color: #DDD;\n",
              "  }\n",
              "\n",
              "  [theme=dark] .colab-df-quickchart {\n",
              "      --bg-color: #3B4455;\n",
              "      --fill-color: #D2E3FC;\n",
              "      --hover-bg-color: #434B5C;\n",
              "      --hover-fill-color: #FFFFFF;\n",
              "      --disabled-bg-color: #3B4455;\n",
              "      --disabled-fill-color: #666;\n",
              "  }\n",
              "\n",
              "  .colab-df-quickchart {\n",
              "    background-color: var(--bg-color);\n",
              "    border: none;\n",
              "    border-radius: 50%;\n",
              "    cursor: pointer;\n",
              "    display: none;\n",
              "    fill: var(--fill-color);\n",
              "    height: 32px;\n",
              "    padding: 0;\n",
              "    width: 32px;\n",
              "  }\n",
              "\n",
              "  .colab-df-quickchart:hover {\n",
              "    background-color: var(--hover-bg-color);\n",
              "    box-shadow: 0 1px 2px rgba(60, 64, 67, 0.3), 0 1px 3px 1px rgba(60, 64, 67, 0.15);\n",
              "    fill: var(--button-hover-fill-color);\n",
              "  }\n",
              "\n",
              "  .colab-df-quickchart-complete:disabled,\n",
              "  .colab-df-quickchart-complete:disabled:hover {\n",
              "    background-color: var(--disabled-bg-color);\n",
              "    fill: var(--disabled-fill-color);\n",
              "    box-shadow: none;\n",
              "  }\n",
              "\n",
              "  .colab-df-spinner {\n",
              "    border: 2px solid var(--fill-color);\n",
              "    border-color: transparent;\n",
              "    border-bottom-color: var(--fill-color);\n",
              "    animation:\n",
              "      spin 1s steps(1) infinite;\n",
              "  }\n",
              "\n",
              "  @keyframes spin {\n",
              "    0% {\n",
              "      border-color: transparent;\n",
              "      border-bottom-color: var(--fill-color);\n",
              "      border-left-color: var(--fill-color);\n",
              "    }\n",
              "    20% {\n",
              "      border-color: transparent;\n",
              "      border-left-color: var(--fill-color);\n",
              "      border-top-color: var(--fill-color);\n",
              "    }\n",
              "    30% {\n",
              "      border-color: transparent;\n",
              "      border-left-color: var(--fill-color);\n",
              "      border-top-color: var(--fill-color);\n",
              "      border-right-color: var(--fill-color);\n",
              "    }\n",
              "    40% {\n",
              "      border-color: transparent;\n",
              "      border-right-color: var(--fill-color);\n",
              "      border-top-color: var(--fill-color);\n",
              "    }\n",
              "    60% {\n",
              "      border-color: transparent;\n",
              "      border-right-color: var(--fill-color);\n",
              "    }\n",
              "    80% {\n",
              "      border-color: transparent;\n",
              "      border-right-color: var(--fill-color);\n",
              "      border-bottom-color: var(--fill-color);\n",
              "    }\n",
              "    90% {\n",
              "      border-color: transparent;\n",
              "      border-bottom-color: var(--fill-color);\n",
              "    }\n",
              "  }\n",
              "</style>\n",
              "\n",
              "  <script>\n",
              "    async function quickchart(key) {\n",
              "      const quickchartButtonEl =\n",
              "        document.querySelector('#' + key + ' button');\n",
              "      quickchartButtonEl.disabled = true;  // To prevent multiple clicks.\n",
              "      quickchartButtonEl.classList.add('colab-df-spinner');\n",
              "      try {\n",
              "        const charts = await google.colab.kernel.invokeFunction(\n",
              "            'suggestCharts', [key], {});\n",
              "      } catch (error) {\n",
              "        console.error('Error during call to suggestCharts:', error);\n",
              "      }\n",
              "      quickchartButtonEl.classList.remove('colab-df-spinner');\n",
              "      quickchartButtonEl.classList.add('colab-df-quickchart-complete');\n",
              "    }\n",
              "    (() => {\n",
              "      let quickchartButtonEl =\n",
              "        document.querySelector('#df-062528c9-0792-4a3b-96c5-5e6e5c624db9 button');\n",
              "      quickchartButtonEl.style.display =\n",
              "        google.colab.kernel.accessAllowed ? 'block' : 'none';\n",
              "    })();\n",
              "  </script>\n",
              "</div>\n",
              "\n",
              "  <div id=\"id_236f18f1-e785-4135-81df-dde8fb9858e5\">\n",
              "    <style>\n",
              "      .colab-df-generate {\n",
              "        background-color: #E8F0FE;\n",
              "        border: none;\n",
              "        border-radius: 50%;\n",
              "        cursor: pointer;\n",
              "        display: none;\n",
              "        fill: #1967D2;\n",
              "        height: 32px;\n",
              "        padding: 0 0 0 0;\n",
              "        width: 32px;\n",
              "      }\n",
              "\n",
              "      .colab-df-generate:hover {\n",
              "        background-color: #E2EBFA;\n",
              "        box-shadow: 0px 1px 2px rgba(60, 64, 67, 0.3), 0px 1px 3px 1px rgba(60, 64, 67, 0.15);\n",
              "        fill: #174EA6;\n",
              "      }\n",
              "\n",
              "      [theme=dark] .colab-df-generate {\n",
              "        background-color: #3B4455;\n",
              "        fill: #D2E3FC;\n",
              "      }\n",
              "\n",
              "      [theme=dark] .colab-df-generate:hover {\n",
              "        background-color: #434B5C;\n",
              "        box-shadow: 0px 1px 3px 1px rgba(0, 0, 0, 0.15);\n",
              "        filter: drop-shadow(0px 1px 2px rgba(0, 0, 0, 0.3));\n",
              "        fill: #FFFFFF;\n",
              "      }\n",
              "    </style>\n",
              "    <button class=\"colab-df-generate\" onclick=\"generateWithVariable('df')\"\n",
              "            title=\"Generate code using this dataframe.\"\n",
              "            style=\"display:none;\">\n",
              "\n",
              "  <svg xmlns=\"http://www.w3.org/2000/svg\" height=\"24px\"viewBox=\"0 0 24 24\"\n",
              "       width=\"24px\">\n",
              "    <path d=\"M7,19H8.4L18.45,9,17,7.55,7,17.6ZM5,21V16.75L18.45,3.32a2,2,0,0,1,2.83,0l1.4,1.43a1.91,1.91,0,0,1,.58,1.4,1.91,1.91,0,0,1-.58,1.4L9.25,21ZM18.45,9,17,7.55Zm-12,3A5.31,5.31,0,0,0,4.9,8.1,5.31,5.31,0,0,0,1,6.5,5.31,5.31,0,0,0,4.9,4.9,5.31,5.31,0,0,0,6.5,1,5.31,5.31,0,0,0,8.1,4.9,5.31,5.31,0,0,0,12,6.5,5.46,5.46,0,0,0,6.5,12Z\"/>\n",
              "  </svg>\n",
              "    </button>\n",
              "    <script>\n",
              "      (() => {\n",
              "      const buttonEl =\n",
              "        document.querySelector('#id_236f18f1-e785-4135-81df-dde8fb9858e5 button.colab-df-generate');\n",
              "      buttonEl.style.display =\n",
              "        google.colab.kernel.accessAllowed ? 'block' : 'none';\n",
              "\n",
              "      buttonEl.onclick = () => {\n",
              "        google.colab.notebook.generateWithVariable('df');\n",
              "      }\n",
              "      })();\n",
              "    </script>\n",
              "  </div>\n",
              "\n",
              "    </div>\n",
              "  </div>\n"
            ]
          },
          "metadata": {},
          "execution_count": 8
        }
      ]
    },
    {
      "cell_type": "markdown",
      "source": [
        "### Data Visualization"
      ],
      "metadata": {
        "id": "jodBQzYhiAFm"
      }
    },
    {
      "cell_type": "code",
      "source": [
        "df['SECTOR'].unique()"
      ],
      "metadata": {
        "colab": {
          "base_uri": "https://localhost:8080/"
        },
        "id": "pQ-O82zPoEbw",
        "outputId": "bf47257a-1d26-44a8-c608-5d6da78ac2f9"
      },
      "execution_count": 9,
      "outputs": [
        {
          "output_type": "execute_result",
          "data": {
            "text/plain": [
              "array(['Families', 'Mixed Adult', 'Men', 'Women', 'Youth'], dtype=object)"
            ]
          },
          "metadata": {},
          "execution_count": 9
        }
      ]
    },
    {
      "cell_type": "code",
      "source": [
        "# Filter data for 'Families' and 'Individual' sectors, and get descriptive statistics\n",
        "families_data = df[df['SECTOR'] == 'Families']['SERVICE_USER_COUNT']\n",
        "individual_data = df[df['SECTOR'].isin(['Men', 'Women', 'Mixed Adult','Youth'])]['SERVICE_USER_COUNT']\n",
        "families_stats = families_data.describe()\n",
        "individual_stats = individual_data.describe()\n",
        "print(\"Descriptive Statistics for Families Sector:\")\n",
        "print(families_stats)\n",
        "print(\"\\nDescriptive Statistics for Individuals Sector:\")\n",
        "print(individual_stats)"
      ],
      "metadata": {
        "colab": {
          "base_uri": "https://localhost:8080/"
        },
        "id": "ZIFbfTqvldZ9",
        "outputId": "a0795976-592e-48a5-95f4-5a6157e569f0"
      },
      "execution_count": 10,
      "outputs": [
        {
          "output_type": "stream",
          "name": "stdout",
          "text": [
            "Descriptive Statistics for Families Sector:\n",
            "count    5649.000000\n",
            "mean       79.651974\n",
            "std        76.734511\n",
            "min         1.000000\n",
            "25%        10.000000\n",
            "50%        57.000000\n",
            "75%       124.000000\n",
            "max       339.000000\n",
            "Name: SERVICE_USER_COUNT, dtype: float64\n",
            "\n",
            "Descriptive Statistics for Individuals Sector:\n",
            "count    45293.000000\n",
            "mean        41.497538\n",
            "std         47.986584\n",
            "min          1.000000\n",
            "25%         15.000000\n",
            "50%         27.000000\n",
            "75%         48.000000\n",
            "max        306.000000\n",
            "Name: SERVICE_USER_COUNT, dtype: float64\n"
          ]
        }
      ]
    },
    {
      "cell_type": "code",
      "source": [
        "# Histogram for Families Sector\n",
        "plt.subplot(1, 2, 1)\n",
        "sns.histplot(families_data, bins=30, kde=True, color='skyblue')\n",
        "plt.title('Service User Count for Families')\n",
        "plt.xlabel('Service User Count')\n",
        "plt.ylabel('Frequency')\n",
        "\n",
        "# Histogram for Individuals Sector\n",
        "plt.subplot(1, 2, 2)\n",
        "sns.histplot(individual_data, bins=30, kde=True, color='orange')\n",
        "plt.title('Service User Count for Individuals')\n",
        "plt.xlabel('Service User Count')\n",
        "plt.ylabel('Frequency')\n",
        "\n",
        "plt.tight_layout()\n",
        "plt.show()"
      ],
      "metadata": {
        "colab": {
          "base_uri": "https://localhost:8080/",
          "height": 487
        },
        "id": "25x2Loe4jgap",
        "outputId": "f0242a3b-452b-4b68-adaa-4eca30acaff8"
      },
      "execution_count": 11,
      "outputs": [
        {
          "output_type": "display_data",
          "data": {
            "text/plain": [
              "<Figure size 640x480 with 2 Axes>"
            ],
            "image/png": "[encoded data removed]"
          },
          "metadata": {}
        }
      ]
    },
    {
      "cell_type": "code",
      "source": [
        "# Check PROGRAM_MODEL's data type and unique values\n",
        "df['PROGRAM_MODEL'].unique()"
      ],
      "metadata": {
        "colab": {
          "base_uri": "https://localhost:8080/"
        },
        "id": "HOlCVpt0jgTv",
        "outputId": "3383f9af-f5da-4af8-f4ff-30393e6d264e"
      },
      "execution_count": 12,
      "outputs": [
        {
          "output_type": "execute_result",
          "data": {
            "text/plain": [
              "array(['Emergency', 'Transitional'], dtype=object)"
            ]
          },
          "metadata": {},
          "execution_count": 12
        }
      ]
    },
    {
      "cell_type": "code",
      "source": [
        "# Prepare the data by filtering for 'Emergency' and 'Transitional' program models\n",
        "emergency_data = df[df['PROGRAM_MODEL'] == 'Emergency']['SERVICE_USER_COUNT']\n",
        "transitional_data = df[df['PROGRAM_MODEL'] == 'Transitional']['SERVICE_USER_COUNT']\n",
        "emergency_stats = emergency_data.describe()\n",
        "transitional_stats = transitional_data.describe()\n",
        "print(\"Descriptive Statistics for Emergency Model:\")\n",
        "print(emergency_stats)\n",
        "print(\"\\nDescriptive Statistics for Transitional Model:\")\n",
        "print(transitional_stats)"
      ],
      "metadata": {
        "colab": {
          "base_uri": "https://localhost:8080/"
        },
        "id": "lkZWRSY-nxS2",
        "outputId": "a490e19c-cf74-4754-8ba3-ccf5de6a2927"
      },
      "execution_count": 13,
      "outputs": [
        {
          "output_type": "stream",
          "name": "stdout",
          "text": [
            "Descriptive Statistics for Emergency Model:\n",
            "count    41541.000000\n",
            "mean        49.064226\n",
            "std         55.916561\n",
            "min          1.000000\n",
            "25%         16.000000\n",
            "50%         33.000000\n",
            "75%         53.000000\n",
            "max        339.000000\n",
            "Name: SERVICE_USER_COUNT, dtype: float64\n",
            "\n",
            "Descriptive Statistics for Transitional Model:\n",
            "count    9401.000000\n",
            "mean       30.988725\n",
            "std        36.431741\n",
            "min         1.000000\n",
            "25%        12.000000\n",
            "50%        23.000000\n",
            "75%        33.000000\n",
            "max       221.000000\n",
            "Name: SERVICE_USER_COUNT, dtype: float64\n"
          ]
        }
      ]
    },
    {
      "cell_type": "code",
      "source": [
        "# Combine the data into a single DataFrame for plotting\n",
        "data_to_plot = pd.DataFrame({'Emergency': emergency_data, 'Transitional': transitional_data})\n",
        "\n",
        "fig, ax = plt.subplots(figsize=(12, 7))\n",
        "ax.spines['top'].set_visible(False)\n",
        "ax.spines['right'].set_visible(False)\n",
        "ax.spines['left'].set_visible(False)\n",
        "\n",
        "sns.boxplot(data=data_to_plot)\n",
        "plt.title('Boxplot of Service User Count for Emergency vs Transitional Program Models')\n",
        "plt.ylabel('Service User Count')\n",
        "\n",
        "plt.show()"
      ],
      "metadata": {
        "colab": {
          "base_uri": "https://localhost:8080/",
          "height": 622
        },
        "id": "3WndHtMLnxp6",
        "outputId": "c8c0c6fd-3994-49a9-ee26-5be91ab659ad"
      },
      "execution_count": 14,
      "outputs": [
        {
          "output_type": "display_data",
          "data": {
            "text/plain": [
              "<Figure size 1200x700 with 1 Axes>"
            ],
            "image/png": "[encoded data removed]"
          },
          "metadata": {}
        }
      ]
    },
    {
      "cell_type": "code",
      "source": [
        "# Show statistical description of SERVICE_USER_COUNT\n",
        "service_user_count_stats = df['SERVICE_USER_COUNT'].describe()\n",
        "service_user_count_stats"
      ],
      "metadata": {
        "colab": {
          "base_uri": "https://localhost:8080/"
        },
        "id": "VSVpHNPgbgun",
        "outputId": "112b645d-68fc-4448-e411-f2672ac9642d"
      },
      "execution_count": 25,
      "outputs": [
        {
          "output_type": "execute_result",
          "data": {
            "text/plain": [
              "count    50942.000000\n",
              "mean        45.728515\n",
              "std         53.326660\n",
              "min          1.000000\n",
              "25%         15.000000\n",
              "50%         28.000000\n",
              "75%         51.000000\n",
              "max        339.000000\n",
              "Name: SERVICE_USER_COUNT, dtype: float64"
            ]
          },
          "metadata": {},
          "execution_count": 25
        }
      ]
    },
    {
      "cell_type": "code",
      "source": [
        "plt.figure(figsize=(10, 6))\n",
        "sns.boxplot(x='CAPACITY_TYPE', y='SERVICE_USER_COUNT', data=df)\n",
        "\n",
        "plt.title('Boxplot of Service User Count by Capacity Type')\n",
        "plt.xlabel('Capacity Type')\n",
        "plt.ylabel('Service User Count')\n",
        "plt.tight_layout()\n",
        "\n",
        "plt.show()"
      ],
      "metadata": {
        "colab": {
          "base_uri": "https://localhost:8080/",
          "height": 607
        },
        "id": "uqIMgfHNcasb",
        "outputId": "6152bf37-f249-43a2-ac2a-62c08a4f047d"
      },
      "execution_count": 27,
      "outputs": [
        {
          "output_type": "display_data",
          "data": {
            "text/plain": [
              "<Figure size 1000x600 with 1 Axes>"
            ],
            "image/png": "[encoded data removed]"
          },
          "metadata": {}
        }
      ]
    },
    {
      "cell_type": "code",
      "source": [
        "# Since room-based capacity and occupied have less non value than bed-based, I decided to only study the relationship between room-based and sector\n",
        "# Clean the missing values in both CAPACITY_ACTUAL_ROOM and OCCUPIED_ROOMS columns\n",
        "df_filled = df.fillna({'CAPACITY_ACTUAL_ROOM': 0, 'OCCUPIED_ROOMS': 0})\n",
        "sector_aggregated = df_filled.groupby('SECTOR')[['CAPACITY_ACTUAL_ROOM', 'OCCUPIED_ROOMS']].sum().reset_index()\n",
        "\n",
        "# Prepare the data for plotting\n",
        "room_based_df = sector_aggregated.melt(id_vars=\"SECTOR\", var_name=\"Category\", value_name=\"Count\")\n",
        "\n",
        "\n",
        "catplot = sns.catplot(x=\"SECTOR\", y=\"Count\", hue=\"Category\", data=room_based_df, kind=\"bar\", height=6, aspect=2)\n",
        "\n",
        "plt.title('Comparison of Total Capacity vs. Occupied Rooms Across Sectors')\n",
        "plt.tight_layout()\n",
        "\n",
        "plt.show()"
      ],
      "metadata": {
        "colab": {
          "base_uri": "https://localhost:8080/",
          "height": 607
        },
        "id": "p-gkTs-W3QXE",
        "outputId": "c437e4b7-4f02-4ffe-d0d2-3f9606322092"
      },
      "execution_count": 16,
      "outputs": [
        {
          "output_type": "display_data",
          "data": {
            "text/plain": [
              "<Figure size 1428.87x600 with 1 Axes>"
            ],
            "image/png": "[encoded data removed]"
          },
          "metadata": {}
        }
      ]
    },
    {
      "cell_type": "markdown",
      "source": [
        "### Conducting T-test"
      ],
      "metadata": {
        "id": "fNud7-F7JNGH"
      }
    },
    {
      "cell_type": "markdown",
      "source": [
        "H0: There is no significant difference in the mean service user count between family shelters and shelters for individuals.\n",
        "\n",
        "H1: There is a significant difference in the mean service user count between family shelters and shelters for individuals."
      ],
      "metadata": {
        "id": "cBCP3GoVLtYf"
      }
    },
    {
      "cell_type": "code",
      "source": [
        "# Perform Welch's t-test\n",
        "t_test_results = stats.ttest_ind(families_data, individual_data, equal_var=False)\n",
        "t_test_results\n"
      ],
      "metadata": {
        "colab": {
          "base_uri": "https://localhost:8080/"
        },
        "id": "Dajj_jP7Jckp",
        "outputId": "f09b97e6-553c-420e-8809-a8e9b27c7bcc"
      },
      "execution_count": 33,
      "outputs": [
        {
          "output_type": "execute_result",
          "data": {
            "text/plain": [
              "TtestResult(statistic=36.49210323706514, pvalue=2.463459460539699e-264, df=6210.558424172581)"
            ]
          },
          "metadata": {},
          "execution_count": 33
        }
      ]
    },
    {
      "cell_type": "markdown",
      "source": [
        "H0: There is no significant difference in the mean service user count between room based capacity and bed based capacity.\n",
        "\n",
        "H1: There is a significant difference in the mean service user count between room based capacity and bed based capacity."
      ],
      "metadata": {
        "id": "SR2laIlDiUM1"
      }
    },
    {
      "cell_type": "code",
      "source": [
        "\n",
        "# Extract SERVICE_USER_COUNT for both capacity types\n",
        "room_based_counts = df[df['CAPACITY_TYPE'] == 'Room Based Capacity']['SERVICE_USER_COUNT']\n",
        "bed_based_counts = df[df['CAPACITY_TYPE'] == 'Bed Based Capacity']['SERVICE_USER_COUNT']\n",
        "\n",
        "t_test_results = stats.ttest_ind(room_based_counts, bed_based_counts, equal_var=False)\n",
        "t_test_results\n"
      ],
      "metadata": {
        "colab": {
          "base_uri": "https://localhost:8080/"
        },
        "id": "7pyhV4_FiTna",
        "outputId": "a96da3a2-05c1-4e5c-b004-2869aa198c2d"
      },
      "execution_count": 34,
      "outputs": [
        {
          "output_type": "execute_result",
          "data": {
            "text/plain": [
              "TtestResult(statistic=78.50641490763628, pvalue=0.0, df=21327.103007947517)"
            ]
          },
          "metadata": {},
          "execution_count": 34
        }
      ]
    },
    {
      "cell_type": "markdown",
      "source": [
        "H0: There is no significant difference in the mean service user count between the emegency and transitional program models.\n",
        "\n",
        "H1: There is a significant difference in the mean service user count between the emegency and transitional program models."
      ],
      "metadata": {
        "id": "fmvuuWJImzxu"
      }
    },
    {
      "cell_type": "code",
      "source": [
        "# Performing the two-sample t-test\n",
        "t_test_results_emergency_transitional = stats.ttest_ind(emergency_data, transitional_data, equal_var=False)\n",
        "\n",
        "# The results will include the t-statistic and the p-value\n",
        "t_test_results_emergency_transitional\n"
      ],
      "metadata": {
        "colab": {
          "base_uri": "https://localhost:8080/"
        },
        "id": "VxRZizZQnVn8",
        "outputId": "e60afce2-00c7-4515-ded6-1e9cc7dda478"
      },
      "execution_count": 35,
      "outputs": [
        {
          "output_type": "execute_result",
          "data": {
            "text/plain": [
              "TtestResult(statistic=38.85174699254652, pvalue=0.0, df=20758.984667611778)"
            ]
          },
          "metadata": {},
          "execution_count": 35
        }
      ]
    }
  ]
}