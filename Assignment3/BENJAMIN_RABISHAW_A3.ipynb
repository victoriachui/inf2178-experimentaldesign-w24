{
  "nbformat": 4,
  "nbformat_minor": 0,
  "metadata": {
    "colab": {
      "provenance": []
    },
    "kernelspec": {
      "name": "python3",
      "display_name": "Python 3"
    },
    "language_info": {
      "name": "python"
    }
  },
  "cells": [
    {
      "cell_type": "code",
      "execution_count": null,
      "metadata": {
        "id": "OPYzO3gs4JhU"
      },
      "outputs": [],
      "source": [
        "# Student name: Benjamin Rabishaw\n",
        "# Student number: 1001556522\n",
        "# Instructor: Shion Guha\n",
        "# Course code: INF2178\n",
        "# Course name: Experimental Design for Data Science\n",
        "# Program: Master of Information\n",
        "# Faculty of Information\n",
        "# University of Toronto\n",
        "\n",
        "\n",
        "# Technical Assignment 3\n",
        "# March 23, 2024"
      ]
    },
    {
      "cell_type": "code",
      "source": [
        "# Initiating relevant libraries and packages\n",
        "\n",
        "import pandas as pd\n",
        "import numpy as np\n",
        "import matplotlib.pyplot as plt\n",
        "from scipy.stats import shapiro\n",
        "from scipy.stats import levene\n",
        "from scipy.stats import f_oneway\n",
        "from scipy.stats import anderson\n",
        "from scipy.stats import boxcox\n",
        "from scipy.stats import yeojohnson\n",
        "from statsmodels.formula.api import ols\n",
        "from statsmodels.stats.multicomp import pairwise_tukeyhsd\n",
        "import statsmodels.api as sm\n",
        "import seaborn as sns\n",
        "from scipy import stats\n",
        "from statsmodels.stats.diagnostic import het_white"
      ],
      "metadata": {
        "id": "zgmHTs8Q4N5b"
      },
      "execution_count": 70,
      "outputs": []
    },
    {
      "cell_type": "code",
      "source": [
        "# Integrating Google Drive\n",
        "\n",
        "from google.colab import drive\n",
        "drive.mount('/drive', force_remount=True)"
      ],
      "metadata": {
        "id": "xYhWjFrc4OF6"
      },
      "execution_count": null,
      "outputs": []
    },
    {
      "cell_type": "code",
      "source": [
        "# Loading Dataset and surveying first rows\n",
        "\n",
        "df = pd.read_csv('/drive/MyDrive/UofT/Colab/Files/INF2178_A3_data.csv')\n",
        "df.head(25)"
      ],
      "metadata": {
        "id": "Dt23HhoZ4OTd"
      },
      "execution_count": null,
      "outputs": []
    },
    {
      "cell_type": "code",
      "source": [
        "# Displaying total length of dataframe\n",
        "\n",
        "len(df)"
      ],
      "metadata": {
        "id": "N5Nc-ItD6gM3"
      },
      "execution_count": null,
      "outputs": []
    },
    {
      "cell_type": "code",
      "source": [
        "# Surveying columns\n",
        "\n",
        "df.columns"
      ],
      "metadata": {
        "id": "bfznSXgZ6gaa",
        "colab": {
          "base_uri": "https://localhost:8080/"
        },
        "outputId": "e4338a86-b492-442b-cfc7-d33b7d8c9c6d"
      },
      "execution_count": 38,
      "outputs": [
        {
          "output_type": "execute_result",
          "data": {
            "text/plain": [
              "Index(['fallreadingscore', 'fallmathscore', 'fallgeneralknowledgescore',\n",
              "       'springreadingscore', 'springmathscore', 'springgeneralknowledgescore',\n",
              "       'totalhouseholdincome', 'incomeinthousands', 'incomegroup',\n",
              "       'readingdelta', 'mathdelta', 'generalknowledgedelta'],\n",
              "      dtype='object')"
            ]
          },
          "metadata": {},
          "execution_count": 38
        }
      ]
    },
    {
      "cell_type": "code",
      "source": [
        "# Surveying column data types\n",
        "\n",
        "df.dtypes"
      ],
      "metadata": {
        "id": "DfXkEQW-6gqh",
        "colab": {
          "base_uri": "https://localhost:8080/"
        },
        "outputId": "9486928a-38d4-411a-abf1-0ca819636188"
      },
      "execution_count": 39,
      "outputs": [
        {
          "output_type": "execute_result",
          "data": {
            "text/plain": [
              "fallreadingscore               float64\n",
              "fallmathscore                  float64\n",
              "fallgeneralknowledgescore      float64\n",
              "springreadingscore             float64\n",
              "springmathscore                float64\n",
              "springgeneralknowledgescore    float64\n",
              "totalhouseholdincome           float64\n",
              "incomeinthousands              float64\n",
              "incomegroup                      int64\n",
              "readingdelta                   float64\n",
              "mathdelta                      float64\n",
              "generalknowledgedelta          float64\n",
              "dtype: object"
            ]
          },
          "metadata": {},
          "execution_count": 39
        }
      ]
    },
    {
      "cell_type": "code",
      "source": [
        "# Data Cleaning\n",
        "\n",
        "## Creating new columns for change in student scores per subject area\n",
        "\n",
        "df['readingdelta'] = df['springreadingscore'] - df['fallreadingscore']\n",
        "df['mathdelta'] = df['springmathscore'] - df['fallmathscore']\n",
        "df['generalknowledgedelta'] = df['springgeneralknowledgescore'] - df['fallgeneralknowledgescore']\n",
        "\n",
        "df.head(25)\n"
      ],
      "metadata": {
        "id": "gVnomND8q1UN"
      },
      "execution_count": null,
      "outputs": []
    },
    {
      "cell_type": "code",
      "source": [
        "# General Exploratory Data Analysis: Summary Statistics\n",
        "\n",
        "df.describe()"
      ],
      "metadata": {
        "id": "zUv7IcFGB6xn"
      },
      "execution_count": null,
      "outputs": []
    },
    {
      "cell_type": "code",
      "source": [
        "# General Exploratory Data Analysis: Boxplots\n",
        "\n",
        "## Creating boxplots for test score variables\n",
        "plt.figure(figsize=(12, 8))\n",
        "plt.boxplot(df[['fallreadingscore', 'fallmathscore', 'fallgeneralknowledgescore',\n",
        "                    'springreadingscore', 'springmathscore', 'springgeneralknowledgescore']])\n",
        "plt.xticks(range(1, len(selected_vars.columns) + 1), selected_vars.columns, rotation=45)\n",
        "plt.grid(True)\n",
        "plt.xlabel('Subject and Time')\n",
        "plt.ylabel('Scores')\n",
        "\n",
        "## Displaying boxplots\n",
        "plt.show()\n",
        "\n"
      ],
      "metadata": {
        "id": "-q_PBGHOB6_6"
      },
      "execution_count": null,
      "outputs": []
    },
    {
      "cell_type": "code",
      "source": [
        "# Assumption 1: Testing Normality of Residuals using Anderson-Darling Tests\n",
        "\n",
        "## Ordinary Least Squares (OLS) model for Research Questions 1-3\n",
        "OLSreading = 'readingdelta ~ fallreadingscore'\n",
        "OLSmath = 'mathdelta ~ fallmathscore'\n",
        "OLSgeneralknowledge = 'generalknowledgedelta ~ fallgeneralknowledgescore'\n",
        "\n",
        "### For reading scores, RQ1:\n",
        "model_RQ1_reading = sm.OLS.from_formula(OLSreading, data=df)\n",
        "result_RQ1_reading = model_RQ1_reading.fit()\n",
        "residuals_RQ1_reading = result_RQ1_reading.resid\n",
        "\n",
        "### For math scores, RQ2:\n",
        "model_RQ2_math = sm.OLS.from_formula(OLSmath, data=df)\n",
        "result_RQ2_math = model_RQ2_math.fit()\n",
        "residuals_RQ2_math = result_RQ2_math.resid\n",
        "\n",
        "### For general knowledge scores, RQ3:\n",
        "model_RQ3_generalknowledge = sm.OLS.from_formula(OLSgeneralknowledge, data=df)\n",
        "result_RQ3_generalknowledge = model_RQ3_generalknowledge.fit()\n",
        "residuals_RQ3_generalknowledge = result_RQ3_generalknowledge.resid\n",
        "\n",
        "## Performing the Anderson-Darling test for normality of residuals for each subject\n",
        "anderson_statistic_RQ1_reading, critical_values_reading, significance_levels_reading = anderson(residuals_RQ1_reading)\n",
        "anderson_statistic_RQ2_math, critical_values_math, significance_levels_math = anderson(residuals_RQ2_math)\n",
        "anderson_statistic_RQ3_generalknowledge, critical_values_generalknowledge, significance_levels_generalknowledge = anderson(residuals_RQ3_generalknowledge)\n",
        "\n",
        "## Printing Anderson-Darling results for each subject\n",
        "print(\"Reading: Anderson-Darling Test Statistic:\", anderson_statistic_RQ1_reading)\n",
        "print(\"Reading: Critical Values:\", critical_values_reading)\n",
        "print(\"Reading: Significance Levels:\", significance_levels_reading)\n",
        "print()\n",
        "print(\"Math: Anderson-Darling Test Statistic:\", anderson_statistic_RQ2_math)\n",
        "print(\"Math: Critical Values:\", critical_values_math)\n",
        "print(\"Math: Significance Levels:\", significance_levels_math)\n",
        "print()\n",
        "print(\"General Knowledge: Anderson-Darling Test Statistic:\", anderson_statistic_RQ3_generalknowledge)\n",
        "print(\"General Knowledge: Critical Values:\", critical_values_generalknowledge)\n",
        "print(\"General Knowledge: Significance Levels:\", significance_levels_generalknowledge)\n",
        "print()\n",
        "\n",
        "## Making residual data positive in order to proceed with Box Cox transformation\n",
        "\n",
        "### For reading scores, RQ1\n",
        "min_residualRQ1 = min(residuals_RQ1_reading)\n",
        "constantRQ1 = abs(min_residualRQ1) + 1e-6\n",
        "residuals_positiveRQ1 = residuals_RQ1_reading + constantRQ1\n",
        "\n",
        "### For math scores, RQ2\n",
        "min_residualRQ2 = min(residuals_RQ2_math)\n",
        "constantRQ2 = abs(min_residualRQ2) + 1e-6\n",
        "residuals_positiveRQ2 = residuals_RQ2_math + constantRQ2\n",
        "\n",
        "### For general knowledge scores, RQ3\n",
        "min_residualRQ3 = min(residuals_RQ3_generalknowledge)\n",
        "constantRQ3 = abs(min_residualRQ3) + 1e-6\n",
        "residuals_positiveRQ3 = residuals_RQ3_generalknowledge + constantRQ3\n",
        "\n",
        "## Transorming residuals using the Box Cox method\n",
        "\n",
        "### For reading scores, RQ1\n",
        "transformed_residuals_RQ1, best_lambda_RQ1 = boxcox(residuals_positiveRQ1)\n",
        "\n",
        "### For math scores, RQ2\n",
        "transformed_residuals_RQ2, best_lambda_RQ2 = boxcox(residuals_positiveRQ2)\n",
        "\n",
        "### For general knowledge scores, RQ3\n",
        "transformed_residuals_RQ3, best_lambda_RQ3 = boxcox(residuals_positiveRQ3)\n",
        "\n",
        "## Re-running Anderson-Darling tests on transformed residuals\n",
        "\n",
        "### For reading scores, RQ1\n",
        "anderson_statistic_RQ1, critical_values_RQ1, significance_levels_RQ1 = anderson(transformed_residuals_RQ1)\n",
        "\n",
        "### For math scores, RQ2\n",
        "anderson_statistic_RQ2, critical_values_RQ2, significance_levels_RQ2 = anderson(transformed_residuals_RQ2)\n",
        "\n",
        "### For general knowledge scores, RQ3\n",
        "anderson_statistic_RQ3, critical_values_RQ3, significance_levels_RQ3 = anderson(transformed_residuals_RQ3)\n",
        "\n",
        "## Printing Anderson-Darling results for each subject\n",
        "\n",
        "print(\"Reading: Transformed Anderson-Darling Test Statistic:\", anderson_statistic_RQ1)\n",
        "print(\"Reading: Transformed Critical Values:\", critical_values_RQ1)\n",
        "print(\"Reading: Transformed Significance Levels:\", significance_levels_RQ1)\n",
        "print()\n",
        "print(\"Math: Transformed Anderson-Darling Test Statistic:\", anderson_statistic_RQ2)\n",
        "print(\"Math: Transformed Critical Values:\", critical_values_RQ2)\n",
        "print(\"Math: Transformed Significance Levels:\", significance_levels_RQ2)\n",
        "print()\n",
        "print(\"General Knowledge: Transformed Anderson-Darling Test Statistic:\", anderson_statistic_RQ3)\n",
        "print(\"General Knowledge: Transformed Critical Values:\", critical_values_RQ3)\n",
        "print(\"General Knowledge: Transformed Significance Levels:\", significance_levels_RQ3)\n",
        "print()"
      ],
      "metadata": {
        "colab": {
          "base_uri": "https://localhost:8080/"
        },
        "id": "zixtycanKc9X",
        "outputId": "435d7a33-cfce-4df8-dc4b-556b7ee8b05a"
      },
      "execution_count": 67,
      "outputs": [
        {
          "output_type": "stream",
          "name": "stdout",
          "text": [
            "Reading: Anderson-Darling Test Statistic: 154.48124076225577\n",
            "Reading: Critical Values: [0.576 0.656 0.787 0.918 1.092]\n",
            "Reading: Significance Levels: [15.  10.   5.   2.5  1. ]\n",
            "\n",
            "Math: Anderson-Darling Test Statistic: 74.66567741147264\n",
            "Math: Critical Values: [0.576 0.656 0.787 0.918 1.092]\n",
            "Math: Significance Levels: [15.  10.   5.   2.5  1. ]\n",
            "\n",
            "General Knowledge: Anderson-Darling Test Statistic: 1.7208135790970118\n",
            "General Knowledge: Critical Values: [0.576 0.656 0.787 0.918 1.092]\n",
            "General Knowledge: Significance Levels: [15.  10.   5.   2.5  1. ]\n",
            "\n",
            "Reading: Transformed Anderson-Darling Test Statistic: 117.24325101265094\n",
            "Reading: Transformed Critical Values: [0.576 0.656 0.787 0.918 1.092]\n",
            "Reading: Transformed Significance Levels: [15.  10.   5.   2.5  1. ]\n",
            "\n",
            "Math: Transformed Anderson-Darling Test Statistic: 36.25975917566029\n",
            "Math: Transformed Critical Values: [0.576 0.656 0.787 0.918 1.092]\n",
            "Math: Transformed Significance Levels: [15.  10.   5.   2.5  1. ]\n",
            "\n",
            "General Knowledge: Transformed Anderson-Darling Test Statistic: 1.0176550614960433\n",
            "General Knowledge: Transformed Critical Values: [0.576 0.656 0.787 0.918 1.092]\n",
            "General Knowledge: Transformed Significance Levels: [15.  10.   5.   2.5  1. ]\n",
            "\n"
          ]
        }
      ]
    },
    {
      "cell_type": "code",
      "source": [
        "# Assumption 1: Testing Normality of Residuals using Anderson-Darling Tests\n",
        "\n",
        "## Ordinary Least Squares (OLS) model for Research Questions 1-3\n",
        "OLSreading = 'readingdelta ~ fallreadingscore'\n",
        "OLSmath = 'mathdelta ~ fallmathscore'\n",
        "OLSgeneralknowledge = 'generalknowledgedelta ~ fallgeneralknowledgescore'\n",
        "\n",
        "### For reading scores, RQ1:\n",
        "model_RQ1_reading = sm.OLS.from_formula(OLSreading, data=df)\n",
        "result_RQ1_reading = model_RQ1_reading.fit()\n",
        "residuals_RQ1_reading = result_RQ1_reading.resid\n",
        "\n",
        "### For math scores, RQ2:\n",
        "model_RQ2_math = sm.OLS.from_formula(OLSmath, data=df)\n",
        "result_RQ2_math = model_RQ2_math.fit()\n",
        "residuals_RQ2_math = result_RQ2_math.resid\n",
        "\n",
        "### For general knowledge scores, RQ3:\n",
        "model_RQ3_generalknowledge = sm.OLS.from_formula(OLSgeneralknowledge, data=df)\n",
        "result_RQ3_generalknowledge = model_RQ3_generalknowledge.fit()\n",
        "residuals_RQ3_generalknowledge = result_RQ3_generalknowledge.resid\n",
        "\n",
        "## Performing the Anderson-Darling test for normality of residuals for each subject\n",
        "anderson_statistic_RQ1_reading, critical_values_reading, significance_levels_reading = anderson(residuals_RQ1_reading)\n",
        "anderson_statistic_RQ2_math, critical_values_math, significance_levels_math = anderson(residuals_RQ2_math)\n",
        "anderson_statistic_RQ3_generalknowledge, critical_values_generalknowledge, significance_levels_generalknowledge = anderson(residuals_RQ3_generalknowledge)\n",
        "\n",
        "## Printing Anderson-Darling results for each subject\n",
        "print(\"Reading: Anderson-Darling Test Statistic:\", anderson_statistic_RQ1_reading)\n",
        "print(\"Reading: Critical Values:\", critical_values_reading)\n",
        "print(\"Reading: Significance Levels:\", significance_levels_reading)\n",
        "print()\n",
        "print(\"Math: Anderson-Darling Test Statistic:\", anderson_statistic_RQ2_math)\n",
        "print(\"Math: Critical Values:\", critical_values_math)\n",
        "print(\"Math: Significance Levels:\", significance_levels_math)\n",
        "print()\n",
        "print(\"General Knowledge: Anderson-Darling Test Statistic:\", anderson_statistic_RQ3_generalknowledge)\n",
        "print(\"General Knowledge: Critical Values:\", critical_values_generalknowledge)\n",
        "print(\"General Knowledge: Significance Levels:\", significance_levels_generalknowledge)\n",
        "print()\n",
        "\n",
        "## Making residual data positive in order to proceed with Yeo-Johnson transformation\n",
        "\n",
        "### For reading scores, RQ1\n",
        "min_residualRQ1 = min(residuals_RQ1_reading)\n",
        "constantRQ1 = abs(min_residualRQ1) + 1e-6\n",
        "residuals_positiveRQ1 = residuals_RQ1_reading + constantRQ1\n",
        "\n",
        "### For math scores, RQ2\n",
        "min_residualRQ2 = min(residuals_RQ2_math)\n",
        "constantRQ2 = abs(min_residualRQ2) + 1e-6\n",
        "residuals_positiveRQ2 = residuals_RQ2_math + constantRQ2\n",
        "\n",
        "### For general knowledge scores, RQ3\n",
        "min_residualRQ3 = min(residuals_RQ3_generalknowledge)\n",
        "constantRQ3 = abs(min_residualRQ3) + 1e-6\n",
        "residuals_positiveRQ3 = residuals_RQ3_generalknowledge + constantRQ3\n",
        "\n",
        "## Transorming residuals using the Yeo-Johnson method\n",
        "\n",
        "### For reading scores, RQ1\n",
        "transformed_residuals_RQ1, lambda_RQ1 = yeojohnson(residuals_positiveRQ1)\n",
        "\n",
        "### For math scores, RQ2\n",
        "transformed_residuals_RQ2, lambda_RQ2 = yeojohnson(residuals_positiveRQ2)\n",
        "\n",
        "### For general knowledge scores, RQ3\n",
        "transformed_residuals_RQ3, lambda_RQ3 = yeojohnson(residuals_positiveRQ3)\n",
        "\n",
        "## Re-running Anderson-Darling tests on transformed residuals\n",
        "\n",
        "### For reading scores, RQ1\n",
        "anderson_statistic_RQ1, critical_values_RQ1, significance_levels_RQ1 = anderson(transformed_residuals_RQ1)\n",
        "\n",
        "### For math scores, RQ2\n",
        "anderson_statistic_RQ2, critical_values_RQ2, significance_levels_RQ2 = anderson(transformed_residuals_RQ2)\n",
        "\n",
        "### For general knowledge scores, RQ3\n",
        "anderson_statistic_RQ3, critical_values_RQ3, significance_levels_RQ3 = anderson(transformed_residuals_RQ3)\n",
        "\n",
        "## Printing Anderson-Darling results for each subject\n",
        "\n",
        "print(\"Reading: Transformed Anderson-Darling Test Statistic:\", anderson_statistic_RQ1)\n",
        "print(\"Reading: Transformed Critical Values:\", critical_values_RQ1)\n",
        "print(\"Reading: Transformed Significance Levels:\", significance_levels_RQ1)\n",
        "print()\n",
        "print(\"Math: Transformed Anderson-Darling Test Statistic:\", anderson_statistic_RQ2)\n",
        "print(\"Math: Transformed Critical Values:\", critical_values_RQ2)\n",
        "print(\"Math: Transformed Significance Levels:\", significance_levels_RQ2)\n",
        "print()\n",
        "print(\"General Knowledge: Transformed Anderson-Darling Test Statistic:\", anderson_statistic_RQ3)\n",
        "print(\"General Knowledge: Transformed Critical Values:\", critical_values_RQ3)\n",
        "print(\"General Knowledge: Transformed Significance Levels:\", significance_levels_RQ3)\n",
        "print()"
      ],
      "metadata": {
        "colab": {
          "base_uri": "https://localhost:8080/"
        },
        "id": "PQ4aIoD8Y4b4",
        "outputId": "86939f0f-eae2-431a-d9ef-bbbc0ef7e988"
      },
      "execution_count": 69,
      "outputs": [
        {
          "output_type": "stream",
          "name": "stdout",
          "text": [
            "Reading: Anderson-Darling Test Statistic: 154.48124076225577\n",
            "Reading: Critical Values: [0.576 0.656 0.787 0.918 1.092]\n",
            "Reading: Significance Levels: [15.  10.   5.   2.5  1. ]\n",
            "\n",
            "Math: Anderson-Darling Test Statistic: 74.66567741147264\n",
            "Math: Critical Values: [0.576 0.656 0.787 0.918 1.092]\n",
            "Math: Significance Levels: [15.  10.   5.   2.5  1. ]\n",
            "\n",
            "General Knowledge: Anderson-Darling Test Statistic: 1.7208135790970118\n",
            "General Knowledge: Critical Values: [0.576 0.656 0.787 0.918 1.092]\n",
            "General Knowledge: Significance Levels: [15.  10.   5.   2.5  1. ]\n",
            "\n",
            "Reading: Transformed Anderson-Darling Test Statistic: 112.14681634098633\n",
            "Reading: Transformed Critical Values: [0.576 0.656 0.787 0.918 1.092]\n",
            "Reading: Transformed Significance Levels: [15.  10.   5.   2.5  1. ]\n",
            "\n",
            "Math: Transformed Anderson-Darling Test Statistic: 33.082302250664725\n",
            "Math: Transformed Critical Values: [0.576 0.656 0.787 0.918 1.092]\n",
            "Math: Transformed Significance Levels: [15.  10.   5.   2.5  1. ]\n",
            "\n",
            "General Knowledge: Transformed Anderson-Darling Test Statistic: 1.0374357778891863\n",
            "General Knowledge: Transformed Critical Values: [0.576 0.656 0.787 0.918 1.092]\n",
            "General Knowledge: Transformed Significance Levels: [15.  10.   5.   2.5  1. ]\n",
            "\n"
          ]
        }
      ]
    },
    {
      "cell_type": "code",
      "source": [
        "# Assumption 2: Testing Heteroskedasticity with a White test\n",
        "\n",
        "## Fitting a regression model in preparation for the White test\n",
        "model = sm.OLS(df['fallgeneralknowledgescore'], sm.add_constant(df[['totalhouseholdincome']]))\n",
        "result = model.fit()\n",
        "\n",
        "## Performing the White test\n",
        "white_test = het_white(result.resid, result.model.exog)\n",
        "\n",
        "## Displaying test results\n",
        "white_test_statistic = white_test[0]\n",
        "white_p_value = white_test[1]\n",
        "\n",
        "print(\"White Test Statistic:\", white_test_statistic)\n",
        "print(\"p-value:\", white_p_value)\n"
      ],
      "metadata": {
        "colab": {
          "base_uri": "https://localhost:8080/"
        },
        "id": "QHzu0hWHH3p7",
        "outputId": "a33604c4-665c-48ca-8c1d-6432f00f08b7"
      },
      "execution_count": 71,
      "outputs": [
        {
          "output_type": "stream",
          "name": "stdout",
          "text": [
            "White Test Statistic: 26.79737470563559\n",
            "p-value: 1.5171342676929652e-06\n"
          ]
        }
      ]
    },
    {
      "cell_type": "code",
      "source": [
        "# The one-way ANCOVA test\n",
        "\n",
        "## Defining the model\n",
        "test_model = 'generalknowledgedelta ~ totalhouseholdincome + fallgeneralknowledgescore'\n",
        "\n",
        "## Fitting the model\n",
        "ANCOVA_model = sm.formula.ols(formula=test_model, data=df).fit()\n",
        "\n",
        "## Conducting the one-way ANCOVA test\n",
        "ANCOVA = sm.stats.anova_lm(ANCOVA_model, typ=2)\n",
        "\n",
        "## Displaying the ANCOVA results\n",
        "print(ANCOVA)\n"
      ],
      "metadata": {
        "colab": {
          "base_uri": "https://localhost:8080/"
        },
        "id": "UoQDzLjQhnzu",
        "outputId": "2c4066a3-9e92-400e-e1b3-e67cf27e1a02"
      },
      "execution_count": 74,
      "outputs": [
        {
          "output_type": "stream",
          "name": "stdout",
          "text": [
            "                                  sum_sq       df           F         PR(>F)\n",
            "totalhouseholdincome         1863.445065      1.0  120.798022   5.761298e-28\n",
            "fallgeneralknowledgescore   12151.352428      1.0  787.712698  6.723343e-168\n",
            "Residual                   184033.639329  11930.0         NaN            NaN\n"
          ]
        }
      ]
    }
  ]
}